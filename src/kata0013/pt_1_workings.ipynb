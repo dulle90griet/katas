{
 "cells": [
  {
   "cell_type": "markdown",
   "id": "b5975ac0-e4fe-4a74-a078-870d0f00a616",
   "metadata": {},
   "source": [
    "First we want to figure out how to calculate a character's row and column in the zigzag, based only on its index in the string and the number of rows."
   ]
  },
  {
   "cell_type": "code",
   "execution_count": 74,
   "id": "971bbcf8-1f5f-4115-a58e-1c8d071ff79d",
   "metadata": {},
   "outputs": [
    {
     "name": "stdout",
     "output_type": "stream",
     "text": [
      " 0: (0, 0)\n",
      " 1: (1, 0)\n",
      " 2: (2, 0)\n",
      " 3: (3, 0)\n",
      " 4: (4, 0)\n",
      " 5: (5, 0)\n",
      " 6: (4, 1)\n",
      " 7: (3, 2)\n",
      " 8: (2, 3)\n",
      " 9: (1, 4)\n",
      "10: (0, 5)\n",
      "11: (1, 5)\n",
      "12: (2, 5)\n",
      "13: (3, 5)\n",
      "14: (4, 5)\n",
      "15: (5, 5)\n"
     ]
    }
   ],
   "source": [
    "import math\n",
    "\n",
    "def convert_index(idx: int, r: int) -> tuple[int]:\n",
    "    zig_length = 2 * (r - 1)\n",
    "    zig_width = r - 1\n",
    "    cur_zig = idx // zig_length\n",
    "    cur_step = idx % zig_length\n",
    "    \n",
    "    col = (cur_zig * zig_width) + cur_step - min(cur_step, zig_width)\n",
    "    row = cur_step - max(0, 2 * (cur_step - zig_width))\n",
    "    \n",
    "    return row, col\n",
    "\n",
    "r = 6\n",
    "\n",
    "for i in range(16):\n",
    "    print(f\"{i:2}: {convert_index(i, r)}\")\n",
    "\n"
   ]
  },
  {
   "cell_type": "markdown",
   "id": "3edf100b-9924-4e99-b131-50cc40bd3452",
   "metadata": {},
   "source": [
    "Using that row and column, we'll want to place the present character in the final, converted string as we interate over the input string, in O(n) time."
   ]
  },
  {
   "cell_type": "code",
   "execution_count": 77,
   "id": "27a34f5b-45ec-46f9-8a9d-06656c409fc4",
   "metadata": {},
   "outputs": [
    {
     "data": {
      "text/plain": [
       "'botonvsrsgaiholdcl'"
      ]
     },
     "execution_count": 77,
     "metadata": {},
     "output_type": "execute_result"
    }
   ],
   "source": [
    "def zigzag_convert(s: str, r: int) -> str:\n",
    "    rows = [\"\"] * r\n",
    "    for i in range(len(s)):\n",
    "        row, _ = convert_index(i, r)\n",
    "        rows[row] += s[i]\n",
    "\n",
    "    return \"\".join(rows)\n",
    "\n",
    "zigzag_convert(\"bogdanovichstrolls\", 4)"
   ]
  },
  {
   "cell_type": "markdown",
   "id": "5f6fbb30-05f6-458b-b29e-5ee3a9335d2c",
   "metadata": {},
   "source": [
    "We can now put the whole thing together very simply. In fact, the calculation of the column is quite unnecessary."
   ]
  },
  {
   "cell_type": "code",
   "execution_count": 83,
   "id": "40e8a761-92c8-41c0-acdd-c414b9c68161",
   "metadata": {},
   "outputs": [
    {
     "data": {
      "text/plain": [
       "'botonvsrsgaiholdcl'"
      ]
     },
     "execution_count": 83,
     "metadata": {},
     "output_type": "execute_result"
    }
   ],
   "source": [
    "def zigzag_convert(s: str, r: int) -> str:\n",
    "    if r < 2:\n",
    "        return s\n",
    "    \n",
    "    zig_length = 2 * (r - 1)\n",
    "    zig_width = r - 1\n",
    "    \n",
    "    rows = [\"\"] * r\n",
    "    for i in range(len(s)):\n",
    "        cur_step = i % zig_length\n",
    "        row = cur_step - max(0, 2 * (cur_step - zig_width))\n",
    "\n",
    "        # If we wanted to calculate column, we could do so as follows for r > 2:\n",
    "        #  cur_zig = idx // zig_length\n",
    "        #  col = (cur_zig * zig_width) + cur_step - min(cur_step, zig_width)\n",
    "        # But there is no need; row is sufficient.\n",
    "        rows[row] += s[i]\n",
    "\n",
    "    return \"\".join(rows)\n",
    "\n",
    "zigzag_convert(\"bogdanovichstrolls\", 4)"
   ]
  },
  {
   "cell_type": "code",
   "execution_count": 81,
   "id": "c3ba89eb-967b-42c2-aeff-b1afcde0efe0",
   "metadata": {},
   "outputs": [
    {
     "data": {
      "text/plain": [
       "'abcdefgh'"
      ]
     },
     "execution_count": 81,
     "metadata": {},
     "output_type": "execute_result"
    }
   ],
   "source": [
    "zigzag_convert(\"aebfcgdh\", 2)"
   ]
  },
  {
   "cell_type": "code",
   "execution_count": 84,
   "id": "8312b9cb-a83e-49e0-a379-f1d34a667ecd",
   "metadata": {},
   "outputs": [
    {
     "data": {
      "text/plain": [
       "'abcdefgh'"
      ]
     },
     "execution_count": 84,
     "metadata": {},
     "output_type": "execute_result"
    }
   ],
   "source": [
    "zigzag_convert(\"aebfcgdh\", 2)"
   ]
  },
  {
   "cell_type": "code",
   "execution_count": 86,
   "id": "342b2cfc-9484-427e-8eb2-c229869bc839",
   "metadata": {},
   "outputs": [
    {
     "name": "stdout",
     "output_type": "stream",
     "text": [
      "hello\n"
     ]
    }
   ],
   "source": [
    "z = True\n",
    "if z: print(\"hello\")"
   ]
  },
  {
   "cell_type": "code",
   "execution_count": null,
   "id": "5ad26371-b57e-4789-8f66-d5558f1c17b0",
   "metadata": {},
   "outputs": [],
   "source": []
  }
 ],
 "metadata": {
  "kernelspec": {
   "display_name": "Python 3 (ipykernel)",
   "language": "python",
   "name": "python3"
  },
  "language_info": {
   "codemirror_mode": {
    "name": "ipython",
    "version": 3
   },
   "file_extension": ".py",
   "mimetype": "text/x-python",
   "name": "python",
   "nbconvert_exporter": "python",
   "pygments_lexer": "ipython3",
   "version": "3.12.4"
  }
 },
 "nbformat": 4,
 "nbformat_minor": 5
}
